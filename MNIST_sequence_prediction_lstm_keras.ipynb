{
  "nbformat": 4,
  "nbformat_minor": 0,
  "metadata": {
    "colab": {
      "name": "18_MNIST_lstm_keras_class.ipynb",
      "provenance": [],
      "machine_shape": "hm"
    },
    "kernelspec": {
      "name": "python3",
      "display_name": "Python 3"
    },
    "accelerator": "GPU"
  },
  "cells": [
    {
      "cell_type": "markdown",
      "metadata": {
        "id": "qkIBpgkDPTDF",
        "colab_type": "text"
      },
      "source": [
        "**Предсказание последовательности**\n",
        "\n",
        "**Вход:** Последовательность из 10 случайных элементов датасета MNIST\n",
        "***pic(a_1), pic(a_2), ... , pic(a_10)***\n",
        "\n",
        "**Выход:** Одно число ***a_11 = a_1 + a_2***\n"
      ]
    },
    {
      "cell_type": "code",
      "metadata": {
        "id": "j0BaRaOBxF-2",
        "colab_type": "code",
        "outputId": "6e8f9d34-ad52-46b4-b694-71e4e3ff0c4a",
        "colab": {
          "base_uri": "https://localhost:8080/",
          "height": 122
        }
      },
      "source": [
        "from google.colab import drive\n",
        "drive.mount('/content/drive')"
      ],
      "execution_count": 0,
      "outputs": [
        {
          "output_type": "stream",
          "text": [
            "Go to this URL in a browser: https://accounts.google.com/o/oauth2/auth?client_id=947318989803-6bn6qk8qdgf4n4g3pfee6491hc0brc4i.apps.googleusercontent.com&redirect_uri=urn%3Aietf%3Awg%3Aoauth%3A2.0%3Aoob&scope=email%20https%3A%2F%2Fwww.googleapis.com%2Fauth%2Fdocs.test%20https%3A%2F%2Fwww.googleapis.com%2Fauth%2Fdrive%20https%3A%2F%2Fwww.googleapis.com%2Fauth%2Fdrive.photos.readonly%20https%3A%2F%2Fwww.googleapis.com%2Fauth%2Fpeopleapi.readonly&response_type=code\n",
            "\n",
            "Enter your authorization code:\n",
            "··········\n",
            "Mounted at /content/drive\n"
          ],
          "name": "stdout"
        }
      ]
    },
    {
      "cell_type": "code",
      "metadata": {
        "id": "jKZHia2CDaV7",
        "colab_type": "code",
        "colab": {}
      },
      "source": [
        "from keras.callbacks import LambdaCallback, ModelCheckpoint\n",
        "from keras.models import Sequential, load_model\n",
        "from keras.layers import Dense, LSTM, Conv2D, TimeDistributed, MaxPooling2D, Flatten, Reshape, Dropout\n",
        "from keras.optimizers import Adam\n",
        "from keras.datasets import mnist\n",
        "from keras.utils import to_categorical\n",
        "from sklearn.metrics import classification_report\n",
        "\n",
        "import matplotlib.pyplot as plt\n",
        "import numpy as np"
      ],
      "execution_count": 0,
      "outputs": []
    },
    {
      "cell_type": "markdown",
      "metadata": {
        "id": "eu4kT8UWFLBM",
        "colab_type": "text"
      },
      "source": [
        "Скачаем MNIST и отнормируем данные:"
      ]
    },
    {
      "cell_type": "code",
      "metadata": {
        "id": "I7_NaZo_JHks",
        "colab_type": "code",
        "outputId": "497182b2-b182-4f51-c6ce-305c81cde697",
        "colab": {
          "base_uri": "https://localhost:8080/",
          "height": 51
        }
      },
      "source": [
        "(x_train, y_train), (x_test, y_test) = mnist.load_data()\n",
        "\n",
        "x_train = x_train.astype('float32')\n",
        "x_test = x_test.astype('float32')\n",
        "x_train /= 255\n",
        "x_test /= 255"
      ],
      "execution_count": 0,
      "outputs": [
        {
          "output_type": "stream",
          "text": [
            "Downloading data from https://s3.amazonaws.com/img-datasets/mnist.npz\n",
            "11493376/11490434 [==============================] - 0s 0us/step\n"
          ],
          "name": "stdout"
        }
      ]
    },
    {
      "cell_type": "code",
      "metadata": {
        "id": "Pwo8dSQbJZ43",
        "colab_type": "code",
        "outputId": "62c10ab3-803a-44b3-f1aa-220dae8e0bc0",
        "colab": {
          "base_uri": "https://localhost:8080/",
          "height": 34
        }
      },
      "source": [
        "x_train.shape, x_test.shape"
      ],
      "execution_count": 0,
      "outputs": [
        {
          "output_type": "execute_result",
          "data": {
            "text/plain": [
              "((60000, 28, 28), (10000, 28, 28))"
            ]
          },
          "metadata": {
            "tags": []
          },
          "execution_count": 5
        }
      ]
    },
    {
      "cell_type": "markdown",
      "metadata": {
        "id": "HRZ2ftSPBVZg",
        "colab_type": "text"
      },
      "source": [
        "Подготовим датасет для обучения:"
      ]
    },
    {
      "cell_type": "code",
      "metadata": {
        "id": "YkJfAiYhJjaY",
        "colab_type": "code",
        "outputId": "64427206-9d40-4a6b-ffe9-f975d808ee8f",
        "colab": {
          "base_uri": "https://localhost:8080/",
          "height": 34
        }
      },
      "source": [
        "maxlen = 10 # Длина последовательности\n",
        "num_classes = 19 # Количество классов\n",
        "# Оставим часть картинок для валидации\n",
        "val_size = 5000\n",
        "sentences = [] # Набор последовательностей для обучения\n",
        "next_chars = [] # Метки для обучения\n",
        "for i in range(200000):\n",
        "    # Получим случайные номера картинок для формирования последовательности\n",
        "    p = np.random.randint(0, len(x_train)-val_size, maxlen)\n",
        "    sentences.append(x_train[p])\n",
        "    next_chars.append(to_categorical(y_train[p[0]]+y_train[p[1]], num_classes))\n",
        "print('nb sequences:', len(sentences))"
      ],
      "execution_count": 0,
      "outputs": [
        {
          "output_type": "stream",
          "text": [
            "nb sequences: 200000\n"
          ],
          "name": "stdout"
        }
      ]
    },
    {
      "cell_type": "code",
      "metadata": {
        "id": "SG3jpBo_YLtm",
        "colab_type": "code",
        "outputId": "f5c1f4aa-f2be-4868-e6fa-eaaae73035b4",
        "colab": {
          "base_uri": "https://localhost:8080/",
          "height": 34
        }
      },
      "source": [
        "# Проверим размерность полученных данных\n",
        "np.array(sentences).shape, np.array(next_chars).shape"
      ],
      "execution_count": 0,
      "outputs": [
        {
          "output_type": "execute_result",
          "data": {
            "text/plain": [
              "((200000, 10, 28, 28), (200000, 19))"
            ]
          },
          "metadata": {
            "tags": []
          },
          "execution_count": 7
        }
      ]
    },
    {
      "cell_type": "markdown",
      "metadata": {
        "id": "xLSWbGW1RVGY",
        "colab_type": "text"
      },
      "source": [
        "Посмотрим на элементы полученного датасета:"
      ]
    },
    {
      "cell_type": "code",
      "metadata": {
        "id": "yY5EX4t-Qty0",
        "colab_type": "code",
        "outputId": "e7ec5160-e1ae-4c76-f951-9ba5ac442e32",
        "colab": {
          "base_uri": "https://localhost:8080/",
          "height": 712
        }
      },
      "source": [
        "for i in range(5):\n",
        "    print('Последовательность картинок:')\n",
        "    plt.figure(figsize=(15,5))\n",
        "    for j in range(maxlen):\n",
        "        plt.subplot(1,maxlen,j+1)\n",
        "        plt.xticks([])\n",
        "        plt.yticks([])\n",
        "        plt.grid(False)\n",
        "        plt.imshow(sentences[i][j], cmap=plt.cm.binary)\n",
        "    plt.show()\n",
        "    print('Правильный ответ: {}'.format(np.argmax(next_chars[i])))\n",
        "    print()"
      ],
      "execution_count": 0,
      "outputs": [
        {
          "output_type": "stream",
          "text": [
            "Последовательность картинок:\n"
          ],
          "name": "stdout"
        },
        {
          "output_type": "display_data",
          "data": {
            "image/png": "[encoded data removed]",
            "text/plain": [
              "<Figure size 1080x360 with 10 Axes>"
            ]
          },
          "metadata": {
            "tags": []
          }
        },
        {
          "output_type": "stream",
          "text": [
            "Правильный ответ: 9\n",
            "\n",
            "Последовательность картинок:\n"
          ],
          "name": "stdout"
        },
        {
          "output_type": "display_data",
          "data": {
            "image/png": "[encoded data removed]",
            "text/plain": [
              "<Figure size 1080x360 with 10 Axes>"
            ]
          },
          "metadata": {
            "tags": []
          }
        },
        {
          "output_type": "stream",
          "text": [
            "Правильный ответ: 6\n",
            "\n",
            "Последовательность картинок:\n"
          ],
          "name": "stdout"
        },
        {
          "output_type": "display_data",
          "data": {
            "image/png": "[encoded data removed]",
            "text/plain": [
              "<Figure size 1080x360 with 10 Axes>"
            ]
          },
          "metadata": {
            "tags": []
          }
        },
        {
          "output_type": "stream",
          "text": [
            "Правильный ответ: 13\n",
            "\n",
            "Последовательность картинок:\n"
          ],
          "name": "stdout"
        },
        {
          "output_type": "display_data",
          "data": {
            "image/png": "[encoded data removed]",
            "text/plain": [
              "<Figure size 1080x360 with 10 Axes>"
            ]
          },
          "metadata": {
            "tags": []
          }
        },
        {
          "output_type": "stream",
          "text": [
            "Правильный ответ: 3\n",
            "\n",
            "Последовательность картинок:\n"
          ],
          "name": "stdout"
        },
        {
          "output_type": "display_data",
          "data": {
            "image/png": "[encoded data removed]",
            "text/plain": [
              "<Figure size 1080x360 with 10 Axes>"
            ]
          },
          "metadata": {
            "tags": []
          }
        },
        {
          "output_type": "stream",
          "text": [
            "Правильный ответ: 12\n",
            "\n"
          ],
          "name": "stdout"
        }
      ]
    },
    {
      "cell_type": "markdown",
      "metadata": {
        "id": "c47cYbSzBRUp",
        "colab_type": "text"
      },
      "source": [
        "Подготовим датасет для валидации:"
      ]
    },
    {
      "cell_type": "code",
      "metadata": {
        "id": "DfWGWaMe-VM9",
        "colab_type": "code",
        "outputId": "245aafc9-c024-4675-928c-d2055b72b15f",
        "colab": {
          "base_uri": "https://localhost:8080/",
          "height": 34
        }
      },
      "source": [
        "val_sentences = [] # Набор последовательностей для валидации\n",
        "val_next_chars = [] # Метки для валидации\n",
        "for i in range(20000):\n",
        "    # Получим случайные номера картинок для формирования последовательности\n",
        "    # Возьмем из x_train только те картинки, которые не использовались для обучения\n",
        "    p = np.random.randint(len(x_train)-val_size, len(x_train), maxlen)\n",
        "    val_sentences.append(x_train[p])\n",
        "    val_next_chars.append(to_categorical(y_train[p[0]]+y_train[p[1]], num_classes))\n",
        "print('nb val sequences:', len(val_sentences))"
      ],
      "execution_count": 0,
      "outputs": [
        {
          "output_type": "stream",
          "text": [
            "nb val sequences: 20000\n"
          ],
          "name": "stdout"
        }
      ]
    },
    {
      "cell_type": "markdown",
      "metadata": {
        "id": "gB41hzt1_-XN",
        "colab_type": "text"
      },
      "source": [
        "Построим модель:"
      ]
    },
    {
      "cell_type": "code",
      "metadata": {
        "id": "xqDbPAKnK9hU",
        "colab_type": "code",
        "colab": {}
      },
      "source": [
        "model = Sequential()\n",
        "# Добавим еще одно измерение для канала изображений\n",
        "model.add(Reshape((maxlen, 28, 28, 1), input_shape=(maxlen, 28, 28)))\n",
        "# Пропустим каждую картинку через сверточные слои перед подачей в LSTM\n",
        "model.add(TimeDistributed(Conv2D(filters=16, kernel_size=(3,3), strides=1, activation='relu')))\n",
        "model.add(TimeDistributed(MaxPooling2D(pool_size=(2,2), strides=2, )))\n",
        "model.add(TimeDistributed(Conv2D(filters=8, kernel_size=(2,2), strides=1, activation='relu')))\n",
        "model.add(TimeDistributed(MaxPooling2D(pool_size=(2,2), strides=2, )))\n",
        "# Развернем каждую картинку в вектор\n",
        "model.add(TimeDistributed(Flatten()))\n",
        "model.add(LSTM(200, input_shape=(maxlen, 6*6*8), dropout=0.25))\n",
        "model.add(Dropout(0.25))\n",
        "model.add(Dense(num_classes, activation='softmax'))\n",
        "\n",
        "optimizer = Adam(lr=0.001) \n",
        "model.compile(loss='categorical_crossentropy', optimizer=optimizer, metrics=['categorical_accuracy'])"
      ],
      "execution_count": 0,
      "outputs": []
    },
    {
      "cell_type": "markdown",
      "metadata": {
        "id": "VYiB-FnQBUes",
        "colab_type": "text"
      },
      "source": [
        "После каждой эпохи будем выводить предсказание модели для произвольной последовательности из тестового датасета:"
      ]
    },
    {
      "cell_type": "code",
      "metadata": {
        "id": "hMz5GFO9DaWH",
        "colab_type": "code",
        "colab": {}
      },
      "source": [
        "def on_epoch_end(epoch, _):\n",
        "    print()\n",
        "    p = np.random.randint(0, len(x_test), maxlen)\n",
        "    x_pred = x_test[p].reshape(-1, maxlen, 28, 28)\n",
        "    # Чтобы не загромождать вывод, будем печатать только метки (цифры) элементов последовательности\n",
        "    print('----- Generating with sequence: ', *y_test[p])\n",
        "    preds = model.predict(x_pred, verbose=0)\n",
        "    print('----- Prediction: ', np.argmax(preds[0]))\n",
        "    print('----- Target: ', y_test[p[0]]+y_test[p[1]])\n",
        "    print()"
      ],
      "execution_count": 0,
      "outputs": []
    },
    {
      "cell_type": "markdown",
      "metadata": {
        "id": "mARgIQ3Fxjab",
        "colab_type": "text"
      },
      "source": [
        "В процессе обучения будем сохранять модели с лучшими значениями val_loss и val_acc:"
      ]
    },
    {
      "cell_type": "code",
      "metadata": {
        "id": "BMdWkJXMBye-",
        "colab_type": "code",
        "colab": {}
      },
      "source": [
        "best_loss = ModelCheckpoint('/content/drive/My Drive/18/MNIST_best_val_loss.h5',\n",
        "                                monitor='val_loss',\n",
        "                                verbose=0,\n",
        "                                save_best_only=True,\n",
        "                                save_weights_only=False,\n",
        "                                mode='auto',\n",
        "                                period=1)\n",
        "best_acc = ModelCheckpoint('/content/drive/My Drive/18/MNIST_best_val_acc.h5',\n",
        "                                monitor='val_categorical_accuracy',\n",
        "                                verbose=0,\n",
        "                                save_best_only=True,\n",
        "                                save_weights_only=False,\n",
        "                                mode='auto',\n",
        "                                period=1)"
      ],
      "execution_count": 0,
      "outputs": []
    },
    {
      "cell_type": "markdown",
      "metadata": {
        "id": "e0jmoeyvAzX7",
        "colab_type": "text"
      },
      "source": [
        "Обучим модель:"
      ]
    },
    {
      "cell_type": "code",
      "metadata": {
        "id": "5S3ra_JxPvTB",
        "colab_type": "code",
        "outputId": "c34a9d1c-6be5-4440-d906-0d94276bcd8e",
        "colab": {
          "base_uri": "https://localhost:8080/",
          "height": 1000
        }
      },
      "source": [
        "%%time\n",
        "print_callback = LambdaCallback(on_epoch_end=on_epoch_end)\n",
        "\n",
        "history = model.fit(np.array(sentences), np.array(next_chars),\n",
        "          batch_size=250,\n",
        "          epochs=50,\n",
        "          callbacks=[print_callback, best_loss, best_acc],\n",
        "          # Для валидации передадим специально подготовленный набор\n",
        "          validation_data=(np.array(val_sentences), np.array(val_next_chars))) "
      ],
      "execution_count": 0,
      "outputs": [
        {
          "output_type": "stream",
          "text": [
            "Train on 200000 samples, validate on 20000 samples\n",
            "Epoch 1/50\n",
            "200000/200000 [==============================] - 53s 264us/step - loss: 2.4467 - categorical_accuracy: 0.1537 - val_loss: 1.8688 - val_categorical_accuracy: 0.3132\n",
            "\n",
            "----- Generating with sequence:  0 9 8 7 2 4 4 9 6 8\n",
            "----- Prediction:  9\n",
            "----- Target:  9\n",
            "\n",
            "Epoch 2/50\n",
            "200000/200000 [==============================] - 51s 254us/step - loss: 1.1088 - categorical_accuracy: 0.6213 - val_loss: 0.2851 - val_categorical_accuracy: 0.9236\n",
            "\n",
            "----- Generating with sequence:  9 8 4 6 7 3 9 6 1 9\n",
            "----- Prediction:  17\n",
            "----- Target:  17\n",
            "\n",
            "Epoch 3/50\n",
            "200000/200000 [==============================] - 51s 254us/step - loss: 0.3636 - categorical_accuracy: 0.8980 - val_loss: 0.1702 - val_categorical_accuracy: 0.9519\n",
            "\n",
            "----- Generating with sequence:  8 0 4 1 6 6 6 2 6 1\n",
            "----- Prediction:  8\n",
            "----- Target:  8\n",
            "\n",
            "Epoch 4/50\n",
            "200000/200000 [==============================] - 51s 253us/step - loss: 0.2334 - categorical_accuracy: 0.9353 - val_loss: 0.1205 - val_categorical_accuracy: 0.9675\n",
            "\n",
            "----- Generating with sequence:  9 1 1 5 0 1 2 7 5 0\n",
            "----- Prediction:  10\n",
            "----- Target:  10\n",
            "\n",
            "Epoch 5/50\n",
            "200000/200000 [==============================] - 51s 254us/step - loss: 0.1748 - categorical_accuracy: 0.9506 - val_loss: 0.1087 - val_categorical_accuracy: 0.9712\n",
            "\n",
            "----- Generating with sequence:  9 7 3 2 0 2 9 2 0 0\n",
            "----- Prediction:  16\n",
            "----- Target:  16\n",
            "\n",
            "Epoch 6/50\n",
            "200000/200000 [==============================] - 51s 253us/step - loss: 0.1428 - categorical_accuracy: 0.9607 - val_loss: 0.1061 - val_categorical_accuracy: 0.9730\n",
            "\n",
            "----- Generating with sequence:  9 3 1 6 2 8 4 7 0 1\n",
            "----- Prediction:  12\n",
            "----- Target:  12\n",
            "\n",
            "Epoch 7/50\n",
            "200000/200000 [==============================] - 51s 253us/step - loss: 0.1203 - categorical_accuracy: 0.9658 - val_loss: 0.0985 - val_categorical_accuracy: 0.9740\n",
            "\n",
            "----- Generating with sequence:  8 8 6 1 9 2 8 9 1 6\n",
            "----- Prediction:  16\n",
            "----- Target:  16\n",
            "\n",
            "Epoch 8/50\n",
            "200000/200000 [==============================] - 51s 253us/step - loss: 0.1001 - categorical_accuracy: 0.9716 - val_loss: 0.0923 - val_categorical_accuracy: 0.9762\n",
            "\n",
            "----- Generating with sequence:  4 3 7 8 9 2 3 5 1 1\n",
            "----- Prediction:  7\n",
            "----- Target:  7\n",
            "\n",
            "Epoch 9/50\n",
            "200000/200000 [==============================] - 51s 253us/step - loss: 0.0866 - categorical_accuracy: 0.9755 - val_loss: 0.0807 - val_categorical_accuracy: 0.9799\n",
            "\n",
            "----- Generating with sequence:  1 9 4 2 9 2 9 2 4 5\n",
            "----- Prediction:  10\n",
            "----- Target:  10\n",
            "\n",
            "Epoch 10/50\n",
            "200000/200000 [==============================] - 50s 252us/step - loss: 0.0763 - categorical_accuracy: 0.9784 - val_loss: 0.0856 - val_categorical_accuracy: 0.9789\n",
            "\n",
            "----- Generating with sequence:  6 0 9 6 0 1 1 6 1 4\n",
            "----- Prediction:  6\n",
            "----- Target:  6\n",
            "\n",
            "Epoch 11/50\n",
            "200000/200000 [==============================] - 51s 254us/step - loss: 0.0694 - categorical_accuracy: 0.9801 - val_loss: 0.0837 - val_categorical_accuracy: 0.9803\n",
            "\n",
            "----- Generating with sequence:  5 3 3 8 8 4 2 0 5 7\n",
            "----- Prediction:  8\n",
            "----- Target:  8\n",
            "\n",
            "Epoch 12/50\n",
            "200000/200000 [==============================] - 50s 252us/step - loss: 0.0598 - categorical_accuracy: 0.9826 - val_loss: 0.0836 - val_categorical_accuracy: 0.9797\n",
            "\n",
            "----- Generating with sequence:  1 8 4 2 6 6 9 1 7 2\n",
            "----- Prediction:  5\n",
            "----- Target:  9\n",
            "\n",
            "Epoch 13/50\n",
            "200000/200000 [==============================] - 51s 254us/step - loss: 0.0546 - categorical_accuracy: 0.9841 - val_loss: 0.0902 - val_categorical_accuracy: 0.9795\n",
            "\n",
            "----- Generating with sequence:  1 3 6 2 9 1 5 2 7 2\n",
            "----- Prediction:  11\n",
            "----- Target:  4\n",
            "\n",
            "Epoch 14/50\n",
            "200000/200000 [==============================] - 51s 253us/step - loss: 0.0507 - categorical_accuracy: 0.9851 - val_loss: 0.0893 - val_categorical_accuracy: 0.9810\n",
            "\n",
            "----- Generating with sequence:  6 5 6 2 8 6 4 8 1 4\n",
            "----- Prediction:  11\n",
            "----- Target:  11\n",
            "\n",
            "Epoch 15/50\n",
            "200000/200000 [==============================] - 51s 254us/step - loss: 0.0466 - categorical_accuracy: 0.9863 - val_loss: 0.0680 - val_categorical_accuracy: 0.9850\n",
            "\n",
            "----- Generating with sequence:  1 2 0 1 7 4 6 0 7 1\n",
            "----- Prediction:  3\n",
            "----- Target:  3\n",
            "\n",
            "Epoch 16/50\n",
            "200000/200000 [==============================] - 51s 253us/step - loss: 0.0418 - categorical_accuracy: 0.9878 - val_loss: 0.0863 - val_categorical_accuracy: 0.9808\n",
            "\n",
            "----- Generating with sequence:  9 2 0 6 0 2 1 2 5 4\n",
            "----- Prediction:  11\n",
            "----- Target:  11\n",
            "\n",
            "Epoch 17/50\n",
            "200000/200000 [==============================] - 51s 254us/step - loss: 0.0387 - categorical_accuracy: 0.9889 - val_loss: 0.0863 - val_categorical_accuracy: 0.9806\n",
            "\n",
            "----- Generating with sequence:  5 4 7 0 0 3 9 6 1 4\n",
            "----- Prediction:  9\n",
            "----- Target:  9\n",
            "\n",
            "Epoch 18/50\n",
            "200000/200000 [==============================] - 51s 253us/step - loss: 0.0354 - categorical_accuracy: 0.9894 - val_loss: 0.0780 - val_categorical_accuracy: 0.9827\n",
            "\n",
            "----- Generating with sequence:  9 7 9 8 4 2 8 1 1 0\n",
            "----- Prediction:  16\n",
            "----- Target:  16\n",
            "\n",
            "Epoch 19/50\n",
            "200000/200000 [==============================] - 51s 253us/step - loss: 0.0334 - categorical_accuracy: 0.9901 - val_loss: 0.0783 - val_categorical_accuracy: 0.9835\n",
            "\n",
            "----- Generating with sequence:  1 8 9 2 5 1 7 4 3 6\n",
            "----- Prediction:  9\n",
            "----- Target:  9\n",
            "\n",
            "Epoch 20/50\n",
            "200000/200000 [==============================] - 50s 252us/step - loss: 0.0307 - categorical_accuracy: 0.9910 - val_loss: 0.0777 - val_categorical_accuracy: 0.9839\n",
            "\n",
            "----- Generating with sequence:  9 9 4 3 3 4 3 5 7 8\n",
            "----- Prediction:  13\n",
            "----- Target:  18\n",
            "\n",
            "Epoch 21/50\n",
            "200000/200000 [==============================] - 51s 253us/step - loss: 0.0296 - categorical_accuracy: 0.9912 - val_loss: 0.0743 - val_categorical_accuracy: 0.9837\n",
            "\n",
            "----- Generating with sequence:  1 2 0 3 2 4 8 8 9 8\n",
            "----- Prediction:  3\n",
            "----- Target:  3\n",
            "\n",
            "Epoch 22/50\n",
            "200000/200000 [==============================] - 51s 253us/step - loss: 0.0266 - categorical_accuracy: 0.9922 - val_loss: 0.0854 - val_categorical_accuracy: 0.9827\n",
            "\n",
            "----- Generating with sequence:  5 9 4 9 4 0 2 9 1 3\n",
            "----- Prediction:  14\n",
            "----- Target:  14\n",
            "\n",
            "Epoch 23/50\n",
            "200000/200000 [==============================] - 51s 254us/step - loss: 0.0263 - categorical_accuracy: 0.9923 - val_loss: 0.0871 - val_categorical_accuracy: 0.9837\n",
            "\n",
            "----- Generating with sequence:  6 4 3 4 4 6 2 6 6 0\n",
            "----- Prediction:  10\n",
            "----- Target:  10\n",
            "\n",
            "Epoch 24/50\n",
            "200000/200000 [==============================] - 50s 252us/step - loss: 0.0247 - categorical_accuracy: 0.9927 - val_loss: 0.0804 - val_categorical_accuracy: 0.9850\n",
            "\n",
            "----- Generating with sequence:  9 5 3 9 7 1 4 6 1 2\n",
            "----- Prediction:  14\n",
            "----- Target:  14\n",
            "\n",
            "Epoch 25/50\n",
            "200000/200000 [==============================] - 50s 252us/step - loss: 0.0233 - categorical_accuracy: 0.9932 - val_loss: 0.0779 - val_categorical_accuracy: 0.9853\n",
            "\n",
            "----- Generating with sequence:  0 2 1 0 2 8 8 2 4 8\n",
            "----- Prediction:  2\n",
            "----- Target:  2\n",
            "\n",
            "Epoch 26/50\n",
            "200000/200000 [==============================] - 50s 252us/step - loss: 0.0237 - categorical_accuracy: 0.9932 - val_loss: 0.0894 - val_categorical_accuracy: 0.9827\n",
            "\n",
            "----- Generating with sequence:  9 2 1 2 0 6 6 6 3 9\n",
            "----- Prediction:  11\n",
            "----- Target:  11\n",
            "\n",
            "Epoch 27/50\n",
            "200000/200000 [==============================] - 50s 252us/step - loss: 0.0218 - categorical_accuracy: 0.9935 - val_loss: 0.0743 - val_categorical_accuracy: 0.9844\n",
            "\n",
            "----- Generating with sequence:  0 1 3 9 1 8 0 2 4 1\n",
            "----- Prediction:  1\n",
            "----- Target:  1\n",
            "\n",
            "Epoch 28/50\n",
            "200000/200000 [==============================] - 50s 252us/step - loss: 0.0209 - categorical_accuracy: 0.9938 - val_loss: 0.0769 - val_categorical_accuracy: 0.9845\n",
            "\n",
            "----- Generating with sequence:  9 9 8 7 4 2 0 7 0 8\n",
            "----- Prediction:  18\n",
            "----- Target:  18\n",
            "\n",
            "Epoch 29/50\n",
            "200000/200000 [==============================] - 51s 254us/step - loss: 0.0187 - categorical_accuracy: 0.9944 - val_loss: 0.0828 - val_categorical_accuracy: 0.9837\n",
            "\n",
            "----- Generating with sequence:  8 3 8 2 0 9 0 3 7 3\n",
            "----- Prediction:  11\n",
            "----- Target:  11\n",
            "\n",
            "Epoch 30/50\n",
            "200000/200000 [==============================] - 50s 252us/step - loss: 0.0197 - categorical_accuracy: 0.9941 - val_loss: 0.0777 - val_categorical_accuracy: 0.9842\n",
            "\n",
            "----- Generating with sequence:  1 3 3 6 4 3 1 3 0 0\n",
            "----- Prediction:  4\n",
            "----- Target:  4\n",
            "\n",
            "Epoch 31/50\n",
            "200000/200000 [==============================] - 51s 253us/step - loss: 0.0186 - categorical_accuracy: 0.9946 - val_loss: 0.0800 - val_categorical_accuracy: 0.9846\n",
            "\n",
            "----- Generating with sequence:  5 3 2 8 1 2 0 3 4 6\n",
            "----- Prediction:  8\n",
            "----- Target:  8\n",
            "\n",
            "Epoch 32/50\n",
            "200000/200000 [==============================] - 51s 253us/step - loss: 0.0188 - categorical_accuracy: 0.9943 - val_loss: 0.0841 - val_categorical_accuracy: 0.9839\n",
            "\n",
            "----- Generating with sequence:  4 9 3 9 7 0 9 7 5 4\n",
            "----- Prediction:  13\n",
            "----- Target:  13\n",
            "\n",
            "Epoch 33/50\n",
            "200000/200000 [==============================] - 51s 254us/step - loss: 0.0179 - categorical_accuracy: 0.9948 - val_loss: 0.0772 - val_categorical_accuracy: 0.9853\n",
            "\n",
            "----- Generating with sequence:  1 8 3 5 4 4 4 0 4 6\n",
            "----- Prediction:  9\n",
            "----- Target:  9\n",
            "\n",
            "Epoch 34/50\n",
            "200000/200000 [==============================] - 51s 253us/step - loss: 0.0164 - categorical_accuracy: 0.9952 - val_loss: 0.0848 - val_categorical_accuracy: 0.9847\n",
            "\n",
            "----- Generating with sequence:  0 8 9 5 6 8 9 3 0 2\n",
            "----- Prediction:  8\n",
            "----- Target:  8\n",
            "\n",
            "Epoch 35/50\n",
            "200000/200000 [==============================] - 51s 254us/step - loss: 0.0158 - categorical_accuracy: 0.9954 - val_loss: 0.0939 - val_categorical_accuracy: 0.9825\n",
            "\n",
            "----- Generating with sequence:  5 6 5 8 3 7 1 0 7 5\n",
            "----- Prediction:  11\n",
            "----- Target:  11\n",
            "\n",
            "Epoch 36/50\n",
            "200000/200000 [==============================] - 51s 253us/step - loss: 0.0150 - categorical_accuracy: 0.9956 - val_loss: 0.0762 - val_categorical_accuracy: 0.9851\n",
            "\n",
            "----- Generating with sequence:  4 6 6 9 5 2 6 7 8 6\n",
            "----- Prediction:  10\n",
            "----- Target:  10\n",
            "\n",
            "Epoch 37/50\n",
            "200000/200000 [==============================] - 50s 252us/step - loss: 0.0149 - categorical_accuracy: 0.9957 - val_loss: 0.0833 - val_categorical_accuracy: 0.9844\n",
            "\n",
            "----- Generating with sequence:  2 8 1 3 5 4 7 1 2 2\n",
            "----- Prediction:  10\n",
            "----- Target:  10\n",
            "\n",
            "Epoch 38/50\n",
            "200000/200000 [==============================] - 50s 252us/step - loss: 0.0144 - categorical_accuracy: 0.9958 - val_loss: 0.0836 - val_categorical_accuracy: 0.9849\n",
            "\n",
            "----- Generating with sequence:  3 5 8 5 0 8 8 1 2 5\n",
            "----- Prediction:  8\n",
            "----- Target:  8\n",
            "\n",
            "Epoch 39/50\n",
            "200000/200000 [==============================] - 50s 252us/step - loss: 0.0150 - categorical_accuracy: 0.9957 - val_loss: 0.0909 - val_categorical_accuracy: 0.9834\n",
            "\n",
            "----- Generating with sequence:  0 1 5 1 8 6 3 1 6 1\n",
            "----- Prediction:  1\n",
            "----- Target:  1\n",
            "\n",
            "Epoch 40/50\n",
            "200000/200000 [==============================] - 50s 252us/step - loss: 0.0135 - categorical_accuracy: 0.9961 - val_loss: 0.0901 - val_categorical_accuracy: 0.9835\n",
            "\n",
            "----- Generating with sequence:  4 3 4 1 9 5 9 6 0 4\n",
            "----- Prediction:  7\n",
            "----- Target:  7\n",
            "\n",
            "Epoch 41/50\n",
            "200000/200000 [==============================] - 51s 253us/step - loss: 0.0142 - categorical_accuracy: 0.9959 - val_loss: 0.0878 - val_categorical_accuracy: 0.9848\n",
            "\n",
            "----- Generating with sequence:  5 3 2 4 8 6 2 7 1 0\n",
            "----- Prediction:  8\n",
            "----- Target:  8\n",
            "\n",
            "Epoch 42/50\n",
            "200000/200000 [==============================] - 50s 251us/step - loss: 0.0137 - categorical_accuracy: 0.9961 - val_loss: 0.0861 - val_categorical_accuracy: 0.9855\n",
            "\n",
            "----- Generating with sequence:  3 8 8 4 0 2 1 4 2 1\n",
            "----- Prediction:  11\n",
            "----- Target:  11\n",
            "\n",
            "Epoch 43/50\n",
            "200000/200000 [==============================] - 50s 251us/step - loss: 0.0126 - categorical_accuracy: 0.9964 - val_loss: 0.0911 - val_categorical_accuracy: 0.9849\n",
            "\n",
            "----- Generating with sequence:  1 8 4 9 0 2 1 2 3 6\n",
            "----- Prediction:  9\n",
            "----- Target:  9\n",
            "\n",
            "Epoch 44/50\n",
            "200000/200000 [==============================] - 50s 251us/step - loss: 0.0124 - categorical_accuracy: 0.9965 - val_loss: 0.0848 - val_categorical_accuracy: 0.9856\n",
            "\n",
            "----- Generating with sequence:  2 2 2 8 5 6 1 8 0 3\n",
            "----- Prediction:  4\n",
            "----- Target:  4\n",
            "\n",
            "Epoch 45/50\n",
            "200000/200000 [==============================] - 50s 252us/step - loss: 0.0129 - categorical_accuracy: 0.9962 - val_loss: 0.0710 - val_categorical_accuracy: 0.9867\n",
            "\n",
            "----- Generating with sequence:  4 6 3 0 2 4 1 3 2 1\n",
            "----- Prediction:  10\n",
            "----- Target:  10\n",
            "\n",
            "Epoch 46/50\n",
            "200000/200000 [==============================] - 51s 253us/step - loss: 0.0130 - categorical_accuracy: 0.9962 - val_loss: 0.0865 - val_categorical_accuracy: 0.9857\n",
            "\n",
            "----- Generating with sequence:  4 9 9 9 2 1 6 9 6 2\n",
            "----- Prediction:  13\n",
            "----- Target:  13\n",
            "\n",
            "Epoch 47/50\n",
            "200000/200000 [==============================] - 50s 252us/step - loss: 0.0124 - categorical_accuracy: 0.9965 - val_loss: 0.0851 - val_categorical_accuracy: 0.9848\n",
            "\n",
            "----- Generating with sequence:  2 1 5 2 5 9 9 2 1 6\n",
            "----- Prediction:  3\n",
            "----- Target:  3\n",
            "\n",
            "Epoch 48/50\n",
            "200000/200000 [==============================] - 51s 253us/step - loss: 0.0112 - categorical_accuracy: 0.9968 - val_loss: 0.0836 - val_categorical_accuracy: 0.9851\n",
            "\n",
            "----- Generating with sequence:  3 1 4 1 5 3 8 3 0 1\n",
            "----- Prediction:  4\n",
            "----- Target:  4\n",
            "\n",
            "Epoch 49/50\n",
            "200000/200000 [==============================] - 50s 252us/step - loss: 0.0123 - categorical_accuracy: 0.9966 - val_loss: 0.0889 - val_categorical_accuracy: 0.9854\n",
            "\n",
            "----- Generating with sequence:  1 6 5 3 6 1 5 8 6 9\n",
            "----- Prediction:  7\n",
            "----- Target:  7\n",
            "\n",
            "Epoch 50/50\n",
            "200000/200000 [==============================] - 50s 252us/step - loss: 0.0103 - categorical_accuracy: 0.9972 - val_loss: 0.0885 - val_categorical_accuracy: 0.9852\n",
            "\n",
            "----- Generating with sequence:  2 9 7 3 5 8 6 4 3 1\n",
            "----- Prediction:  11\n",
            "----- Target:  11\n",
            "\n",
            "CPU times: user 36min 23s, sys: 9min, total: 45min 24s\n",
            "Wall time: 42min 23s\n"
          ],
          "name": "stdout"
        }
      ]
    },
    {
      "cell_type": "markdown",
      "metadata": {
        "id": "NKtYj9JUODkh",
        "colab_type": "text"
      },
      "source": [
        "Выведем информацию о модели и сохраним ее:"
      ]
    },
    {
      "cell_type": "code",
      "metadata": {
        "id": "VQpOzxwWai7I",
        "colab_type": "code",
        "outputId": "f3651766-353d-4551-82b8-b314940d4bd0",
        "colab": {
          "base_uri": "https://localhost:8080/",
          "height": 459
        }
      },
      "source": [
        "model.summary()"
      ],
      "execution_count": 0,
      "outputs": [
        {
          "output_type": "stream",
          "text": [
            "Model: \"sequential_4\"\n",
            "_________________________________________________________________\n",
            "Layer (type)                 Output Shape              Param #   \n",
            "=================================================================\n",
            "reshape_4 (Reshape)          (None, 10, 28, 28, 1)     0         \n",
            "_________________________________________________________________\n",
            "time_distributed_16 (TimeDis (None, 10, 26, 26, 16)    160       \n",
            "_________________________________________________________________\n",
            "time_distributed_17 (TimeDis (None, 10, 13, 13, 16)    0         \n",
            "_________________________________________________________________\n",
            "time_distributed_18 (TimeDis (None, 10, 12, 12, 8)     520       \n",
            "_________________________________________________________________\n",
            "time_distributed_19 (TimeDis (None, 10, 6, 6, 8)       0         \n",
            "_________________________________________________________________\n",
            "time_distributed_20 (TimeDis (None, 10, 288)           0         \n",
            "_________________________________________________________________\n",
            "lstm_4 (LSTM)                (None, 200)               391200    \n",
            "_________________________________________________________________\n",
            "dropout_4 (Dropout)          (None, 200)               0         \n",
            "_________________________________________________________________\n",
            "dense_4 (Dense)              (None, 19)                3819      \n",
            "=================================================================\n",
            "Total params: 395,699\n",
            "Trainable params: 395,699\n",
            "Non-trainable params: 0\n",
            "_________________________________________________________________\n"
          ],
          "name": "stdout"
        }
      ]
    },
    {
      "cell_type": "code",
      "metadata": {
        "id": "CVGgPM_cXH2B",
        "colab_type": "code",
        "colab": {}
      },
      "source": [
        "model.save('/content/drive/My Drive/18/MNIST_lstm.h5')"
      ],
      "execution_count": 0,
      "outputs": []
    },
    {
      "cell_type": "markdown",
      "metadata": {
        "id": "xD_Vu3Y2yb4P",
        "colab_type": "text"
      },
      "source": [
        "Построим график функции потерь:"
      ]
    },
    {
      "cell_type": "code",
      "metadata": {
        "id": "oi2QG7us4kPr",
        "colab_type": "code",
        "outputId": "59dcf4d7-4c6e-46a5-921e-9015f047f417",
        "colab": {
          "base_uri": "https://localhost:8080/",
          "height": 367
        }
      },
      "source": [
        "plt.figure(figsize=(10, 5))\n",
        "plt.title(\"Losses\")\n",
        "plt.plot(history.history['loss'], label=\"train loss\")\n",
        "plt.plot(history.history['val_loss'], label=\"val loss\")\n",
        "plt.plot(np.argmin(history.history['val_loss']), np.min(history.history['val_loss']), marker=\"x\", color=\"r\", label=\"best val loss\")\n",
        "plt.xlabel(\"Epochs\")\n",
        "plt.ylabel(\"Losses\")\n",
        "plt.legend()"
      ],
      "execution_count": 0,
      "outputs": [
        {
          "output_type": "execute_result",
          "data": {
            "text/plain": [
              "<matplotlib.legend.Legend at 0x7fe1f0a50eb8>"
            ]
          },
          "metadata": {
            "tags": []
          },
          "execution_count": 36
        },
        {
          "output_type": "display_data",
          "data": {
            "image/png": "[encoded data removed]",
            "text/plain": [
              "<Figure size 720x360 with 1 Axes>"
            ]
          },
          "metadata": {
            "tags": []
          }
        }
      ]
    },
    {
      "cell_type": "markdown",
      "metadata": {
        "id": "vzeKI5NPyffW",
        "colab_type": "text"
      },
      "source": [
        "Построим график accuracy:"
      ]
    },
    {
      "cell_type": "code",
      "metadata": {
        "id": "OuBQzlzu4abj",
        "colab_type": "code",
        "outputId": "c99c9f53-9f5a-4baf-dc4a-588186d55cf2",
        "colab": {
          "base_uri": "https://localhost:8080/",
          "height": 367
        }
      },
      "source": [
        "plt.figure(figsize=(10, 5))\n",
        "plt.title(\"Accuracy\")\n",
        "plt.plot(history.history['categorical_accuracy'], label=\"train categorical accuracy\")\n",
        "plt.plot(history.history['val_categorical_accuracy'], label=\"val categorical accuracy\")\n",
        "plt.plot(np.argmax(history.history['val_categorical_accuracy']), np.max(history.history['val_categorical_accuracy']), marker=\"x\", color=\"r\", label=\"best val categorical accuracy\")\n",
        "plt.xlabel(\"Epochs\")\n",
        "plt.ylabel(\"Accuracy\")\n",
        "plt.legend()"
      ],
      "execution_count": 0,
      "outputs": [
        {
          "output_type": "execute_result",
          "data": {
            "text/plain": [
              "<matplotlib.legend.Legend at 0x7fe1f0acb080>"
            ]
          },
          "metadata": {
            "tags": []
          },
          "execution_count": 37
        },
        {
          "output_type": "display_data",
          "data": {
            "image/png": "[encoded data removed]",
            "text/plain": [
              "<Figure size 720x360 with 1 Axes>"
            ]
          },
          "metadata": {
            "tags": []
          }
        }
      ]
    },
    {
      "cell_type": "markdown",
      "metadata": {
        "id": "4gOmZjpdZQYp",
        "colab_type": "text"
      },
      "source": [
        "Для итоговой проверки составим новые случайные последовательности из тестового датасета:"
      ]
    },
    {
      "cell_type": "code",
      "metadata": {
        "id": "pRLjrkgEWHSL",
        "colab_type": "code",
        "outputId": "b9d1ba39-3990-4d38-842b-92354bef2049",
        "colab": {
          "base_uri": "https://localhost:8080/",
          "height": 34
        }
      },
      "source": [
        "test_sentences = []\n",
        "test_next_chars = []\n",
        "for i in range(25000):\n",
        "    p = np.random.randint(0, len(x_test), maxlen)\n",
        "    test_sentences.append(x_test[p])\n",
        "    test_next_chars.append(to_categorical(y_test[p[0]]+y_test[p[1]], num_classes))\n",
        "print('nb test sequences:', len(test_sentences))"
      ],
      "execution_count": 0,
      "outputs": [
        {
          "output_type": "stream",
          "text": [
            "nb test sequences: 25000\n"
          ],
          "name": "stdout"
        }
      ]
    },
    {
      "cell_type": "markdown",
      "metadata": {
        "id": "J7Ap50zoZlVb",
        "colab_type": "text"
      },
      "source": [
        "Оценим качество модели:"
      ]
    },
    {
      "cell_type": "code",
      "metadata": {
        "id": "l6PYs6F-Y0A7",
        "colab_type": "code",
        "colab": {}
      },
      "source": [
        "# model = load_model('/content/drive/My Drive/18/MNIST_lstm.h5')"
      ],
      "execution_count": 0,
      "outputs": []
    },
    {
      "cell_type": "code",
      "metadata": {
        "colab_type": "code",
        "outputId": "90d6b85b-fec4-4f31-f2fb-dafdebddd297",
        "id": "vifBjvRJyfmK",
        "colab": {
          "base_uri": "https://localhost:8080/",
          "height": 51
        }
      },
      "source": [
        "model.evaluate(np.array(test_sentences), np.array(test_next_chars))"
      ],
      "execution_count": 0,
      "outputs": [
        {
          "output_type": "stream",
          "text": [
            "25000/25000 [==============================] - 14s 570us/step\n"
          ],
          "name": "stdout"
        },
        {
          "output_type": "execute_result",
          "data": {
            "text/plain": [
              "[0.09827232244258281, 0.98288]"
            ]
          },
          "metadata": {
            "tags": []
          },
          "execution_count": 8
        }
      ]
    },
    {
      "cell_type": "markdown",
      "metadata": {
        "id": "s5csk6CJLWDp",
        "colab_type": "text"
      },
      "source": [
        "MNIST_best_val_loss"
      ]
    },
    {
      "cell_type": "code",
      "metadata": {
        "colab_type": "code",
        "id": "mSWb3qRkLPhn",
        "colab": {}
      },
      "source": [
        "model = load_model('/content/drive/My Drive/18/MNIST_best_val_loss.h5')"
      ],
      "execution_count": 0,
      "outputs": []
    },
    {
      "cell_type": "code",
      "metadata": {
        "colab_type": "code",
        "outputId": "db947bb1-eda9-4e53-b8e5-1e3f5d94f3de",
        "id": "lIaTKupjLPhu",
        "colab": {
          "base_uri": "https://localhost:8080/",
          "height": 51
        }
      },
      "source": [
        "model.evaluate(np.array(test_sentences), np.array(test_next_chars))"
      ],
      "execution_count": 0,
      "outputs": [
        {
          "output_type": "stream",
          "text": [
            "25000/25000 [==============================] - 11s 439us/step\n"
          ],
          "name": "stdout"
        },
        {
          "output_type": "execute_result",
          "data": {
            "text/plain": [
              "[0.08163124587556347, 0.98096]"
            ]
          },
          "metadata": {
            "tags": []
          },
          "execution_count": 10
        }
      ]
    },
    {
      "cell_type": "markdown",
      "metadata": {
        "id": "uLFTuRH8WR9g",
        "colab_type": "text"
      },
      "source": [
        "MNIST_best_val_acc"
      ]
    },
    {
      "cell_type": "code",
      "metadata": {
        "id": "PILyigr-GNrK",
        "colab_type": "code",
        "colab": {}
      },
      "source": [
        "model = load_model('/content/drive/My Drive/18/MNIST_best_val_acc.h5')"
      ],
      "execution_count": 0,
      "outputs": []
    },
    {
      "cell_type": "code",
      "metadata": {
        "id": "9ikLf8TrRszk",
        "colab_type": "code",
        "outputId": "6fbd11cc-495a-4696-d25c-8efe8ad29067",
        "colab": {
          "base_uri": "https://localhost:8080/",
          "height": 51
        }
      },
      "source": [
        "model.evaluate(np.array(test_sentences), np.array(test_next_chars))"
      ],
      "execution_count": 0,
      "outputs": [
        {
          "output_type": "stream",
          "text": [
            "25000/25000 [==============================] - 11s 433us/step\n"
          ],
          "name": "stdout"
        },
        {
          "output_type": "execute_result",
          "data": {
            "text/plain": [
              "[0.09592031558642862, 0.98324]"
            ]
          },
          "metadata": {
            "tags": []
          },
          "execution_count": 12
        }
      ]
    },
    {
      "cell_type": "markdown",
      "metadata": {
        "id": "sBzfqPEU7F-u",
        "colab_type": "text"
      },
      "source": [
        "Загрузим модель с наилучшим результатом на тесте:"
      ]
    },
    {
      "cell_type": "code",
      "metadata": {
        "colab_type": "code",
        "id": "bWaTZQMFMoK2",
        "colab": {}
      },
      "source": [
        "model = load_model('/content/drive/My Drive/18/MNIST_best_val_acc.h5')"
      ],
      "execution_count": 0,
      "outputs": []
    },
    {
      "cell_type": "markdown",
      "metadata": {
        "id": "zTEGxcdWRMzr",
        "colab_type": "text"
      },
      "source": [
        "Рассмотрим расширенную оценку качества предсказания модели на тестовом датасете:"
      ]
    },
    {
      "cell_type": "code",
      "metadata": {
        "id": "1Y6ea-AYQJCB",
        "colab_type": "code",
        "colab": {}
      },
      "source": [
        "predictions = model.predict(np.array(test_sentences))"
      ],
      "execution_count": 0,
      "outputs": []
    },
    {
      "cell_type": "code",
      "metadata": {
        "id": "69-FoM8oO6fK",
        "colab_type": "code",
        "outputId": "ab4387b3-3d46-438b-afd2-538d4c33005c",
        "colab": {
          "base_uri": "https://localhost:8080/",
          "height": 459
        }
      },
      "source": [
        "print(classification_report(np.array(test_next_chars).argmax(axis=1), predictions.argmax(axis=1), digits=4))"
      ],
      "execution_count": 0,
      "outputs": [
        {
          "output_type": "stream",
          "text": [
            "              precision    recall  f1-score   support\n",
            "\n",
            "           0     0.9874    0.9958    0.9916       236\n",
            "           1     0.9915    0.9949    0.9932       584\n",
            "           2     0.9850    0.9942    0.9896       858\n",
            "           3     0.9880    0.9834    0.9857      1084\n",
            "           4     0.9855    0.9847    0.9851      1307\n",
            "           5     0.9850    0.9830    0.9840      1532\n",
            "           6     0.9800    0.9873    0.9837      1737\n",
            "           7     0.9806    0.9890    0.9848      1997\n",
            "           8     0.9771    0.9906    0.9838      2236\n",
            "           9     0.9859    0.9867    0.9863      2414\n",
            "          10     0.9859    0.9790    0.9825      2288\n",
            "          11     0.9809    0.9829    0.9819      1984\n",
            "          12     0.9866    0.9777    0.9821      1656\n",
            "          13     0.9788    0.9726    0.9757      1424\n",
            "          14     0.9836    0.9836    0.9836      1097\n",
            "          15     0.9848    0.9811    0.9830      1059\n",
            "          16     0.9803    0.9664    0.9733       774\n",
            "          17     0.9847    0.9597    0.9720       471\n",
            "          18     0.9807    0.9695    0.9750       262\n",
            "\n",
            "    accuracy                         0.9832     25000\n",
            "   macro avg     0.9838    0.9822    0.9830     25000\n",
            "weighted avg     0.9833    0.9832    0.9832     25000\n",
            "\n"
          ],
          "name": "stdout"
        }
      ]
    },
    {
      "cell_type": "markdown",
      "metadata": {
        "colab_type": "text",
        "id": "y4-1Ccx7O8EU"
      },
      "source": [
        "Выведем несколько случайных примеров с предсказаниями:"
      ]
    },
    {
      "cell_type": "code",
      "metadata": {
        "id": "RxyiWdDGCY88",
        "colab_type": "code",
        "outputId": "71a59979-600c-4018-dd84-2f14d7a83e20",
        "colab": {
          "base_uri": "https://localhost:8080/",
          "height": 1000
        }
      },
      "source": [
        "for i in range(10):\n",
        "    p = np.random.randint(0, len(x_test), maxlen)\n",
        "    x_pred = x_test[p].reshape(-1, maxlen, 28, 28)\n",
        "    preds = model.predict(x_pred, verbose=0)\n",
        "    print('Последовательность картинок:')\n",
        "    plt.figure(figsize=(15,5))\n",
        "    for j in range(maxlen):\n",
        "        plt.subplot(1,maxlen,j+1)\n",
        "        plt.xticks([])\n",
        "        plt.yticks([])\n",
        "        plt.grid(False)\n",
        "        plt.imshow(x_test[p][j], cmap=plt.cm.binary)\n",
        "        plt.xlabel(y_test[p][j])\n",
        "    plt.show()\n",
        "    print('Предсказание модели: {}'.format(np.argmax(preds)))\n",
        "    print('Правильный ответ: {}'.format(y_test[p[0]]+y_test[p[1]]))\n",
        "    print()"
      ],
      "execution_count": 0,
      "outputs": [
        {
          "output_type": "stream",
          "text": [
            "Последовательность картинок:\n"
          ],
          "name": "stdout"
        },
        {
          "output_type": "display_data",
          "data": {
            "image/png": "[encoded data removed]",
            "text/plain": [
              "<Figure size 1080x360 with 10 Axes>"
            ]
          },
          "metadata": {
            "tags": []
          }
        },
        {
          "output_type": "stream",
          "text": [
            "Предсказание модели: 3\n",
            "Правильный ответ: 3\n",
            "\n",
            "Последовательность картинок:\n"
          ],
          "name": "stdout"
        },
        {
          "output_type": "display_data",
          "data": {
            "image/png": "[encoded data removed]",
            "text/plain": [
              "<Figure size 1080x360 with 10 Axes>"
            ]
          },
          "metadata": {
            "tags": []
          }
        },
        {
          "output_type": "stream",
          "text": [
            "Предсказание модели: 13\n",
            "Правильный ответ: 13\n",
            "\n",
            "Последовательность картинок:\n"
          ],
          "name": "stdout"
        },
        {
          "output_type": "display_data",
          "data": {
            "image/png": "[encoded data removed]",
            "text/plain": [
              "<Figure size 1080x360 with 10 Axes>"
            ]
          },
          "metadata": {
            "tags": []
          }
        },
        {
          "output_type": "stream",
          "text": [
            "Предсказание модели: 2\n",
            "Правильный ответ: 2\n",
            "\n",
            "Последовательность картинок:\n"
          ],
          "name": "stdout"
        },
        {
          "output_type": "display_data",
          "data": {
            "image/png": "[encoded data removed]",
            "text/plain": [
              "<Figure size 1080x360 with 10 Axes>"
            ]
          },
          "metadata": {
            "tags": []
          }
        },
        {
          "output_type": "stream",
          "text": [
            "Предсказание модели: 14\n",
            "Правильный ответ: 14\n",
            "\n",
            "Последовательность картинок:\n"
          ],
          "name": "stdout"
        },
        {
          "output_type": "display_data",
          "data": {
            "image/png": "[encoded data removed]",
            "text/plain": [
              "<Figure size 1080x360 with 10 Axes>"
            ]
          },
          "metadata": {
            "tags": []
          }
        },
        {
          "output_type": "stream",
          "text": [
            "Предсказание модели: 11\n",
            "Правильный ответ: 11\n",
            "\n",
            "Последовательность картинок:\n"
          ],
          "name": "stdout"
        },
        {
          "output_type": "display_data",
          "data": {
            "image/png": "[encoded data removed]",
            "text/plain": [
              "<Figure size 1080x360 with 10 Axes>"
            ]
          },
          "metadata": {
            "tags": []
          }
        },
        {
          "output_type": "stream",
          "text": [
            "Предсказание модели: 9\n",
            "Правильный ответ: 9\n",
            "\n",
            "Последовательность картинок:\n"
          ],
          "name": "stdout"
        },
        {
          "output_type": "display_data",
          "data": {
            "image/png": "[encoded data removed]",
            "text/plain": [
              "<Figure size 1080x360 with 10 Axes>"
            ]
          },
          "metadata": {
            "tags": []
          }
        },
        {
          "output_type": "stream",
          "text": [
            "Предсказание модели: 8\n",
            "Правильный ответ: 8\n",
            "\n",
            "Последовательность картинок:\n"
          ],
          "name": "stdout"
        },
        {
          "output_type": "display_data",
          "data": {
            "image/png": "[encoded data removed]",
            "text/plain": [
              "<Figure size 1080x360 with 10 Axes>"
            ]
          },
          "metadata": {
            "tags": []
          }
        },
        {
          "output_type": "stream",
          "text": [
            "Предсказание модели: 12\n",
            "Правильный ответ: 12\n",
            "\n",
            "Последовательность картинок:\n"
          ],
          "name": "stdout"
        },
        {
          "output_type": "display_data",
          "data": {
            "image/png": "[encoded data removed]",
            "text/plain": [
              "<Figure size 1080x360 with 10 Axes>"
            ]
          },
          "metadata": {
            "tags": []
          }
        },
        {
          "output_type": "stream",
          "text": [
            "Предсказание модели: 5\n",
            "Правильный ответ: 5\n",
            "\n",
            "Последовательность картинок:\n"
          ],
          "name": "stdout"
        },
        {
          "output_type": "display_data",
          "data": {
            "image/png": "[encoded data removed]",
            "text/plain": [
              "<Figure size 1080x360 with 10 Axes>"
            ]
          },
          "metadata": {
            "tags": []
          }
        },
        {
          "output_type": "stream",
          "text": [
            "Предсказание модели: 9\n",
            "Правильный ответ: 9\n",
            "\n"
          ],
          "name": "stdout"
        }
      ]
    },
    {
      "cell_type": "code",
      "metadata": {
        "id": "v2zs08JwLcuw",
        "colab_type": "code",
        "colab": {}
      },
      "source": [
        ""
      ],
      "execution_count": 0,
      "outputs": []
    }
  ]
}